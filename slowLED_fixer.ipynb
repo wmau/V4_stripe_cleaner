{
 "cells": [
  {
   "cell_type": "markdown",
   "metadata": {},
   "source": [
    "# Setting up"
   ]
  },
  {
   "cell_type": "markdown",
   "metadata": {},
   "source": [
    "## load modules"
   ]
  },
  {
   "cell_type": "code",
   "execution_count": null,
   "metadata": {},
   "outputs": [],
   "source": [
    "%%capture\n",
    "%load_ext autoreload\n",
    "%autoreload 2\n",
    "%matplotlib inline\n",
    "import os\n",
    "import numpy as np\n",
    "from tqdm import tqdm\n",
    "from os import listdir\n",
    "from pathlib import Path\n",
    "import cv2\n",
    "import matplotlib\n",
    "import shutil"
   ]
  },
  {
   "cell_type": "markdown",
   "metadata": {
    "lines_to_next_cell": 2
   },
   "source": [
    "## set path and parameters"
   ]
  },
  {
   "cell_type": "code",
   "execution_count": null,
   "metadata": {
    "lines_to_next_cell": 2,
    "tags": [
     "parameters"
    ]
   },
   "outputs": [],
   "source": [
    "# Define file path here. \n",
    "dpath = \"FILE_PATH_HERE\"\n",
    "dpath = os.path.abspath(dpath)"
   ]
  },
  {
   "cell_type": "markdown",
   "metadata": {},
   "source": [
    "## Look for striped frames again"
   ]
  },
  {
   "cell_type": "code",
   "execution_count": null,
   "metadata": {},
   "outputs": [],
   "source": [
    "def replace_LEDoff_frames(fpath, replacement_frame_number=3):\n",
    "    \n",
    "    # Get \n",
    "    folder = os.path.join(os.path.split(fpath)[0], 'originals')\n",
    "    if not os.path.exists(folder):\n",
    "        os.mkdir(folder)\n",
    "    fname = os.path.split(fpath)[1]\n",
    "    move_fpath = os.path.join(folder, fname)\n",
    "    \n",
    "    # Move the original file. \n",
    "    if not os.path.exists(move_fpath):\n",
    "        shutil.move(fpath, move_fpath)\n",
    "        print(f'Moved {fpath} to {move_fpath}')\n",
    "    else:\n",
    "        raise FileExistsError('The folder is already storing an original 0.avi. Aborting to prevent overwrite.')\n",
    "    \n",
    "    # Read the original file.\n",
    "    compressionCodec = \"FFV1\"\n",
    "    codec = cv2.VideoWriter.fourcc(*compressionCodec)\n",
    "    cap = cv2.VideoCapture(move_fpath)\n",
    "    rows, cols = int(cap.get(4)), int(cap.get(3))\n",
    "        \n",
    "    # Get replacement frame.\n",
    "    cap.set(cv2.CAP_PROP_POS_FRAMES, replacement_frame_number)\n",
    "    _, replacement_frame = cap.read()\n",
    "    replacement_frame = replacement_frame[:,:,1]\n",
    "    \n",
    "    #Return to the first frame.\n",
    "    cap.set(cv2.CAP_PROP_POS_FRAMES, 0)\n",
    "    \n",
    "    writeFile = cv2.VideoWriter(fpath, codec, 60, (cols, rows), isColor=False)\n",
    "    # Rewrite video file. \n",
    "    print(f'Writing new {fpath}')\n",
    "    for frame_number in tqdm(range(int(cap.get(7)))):\n",
    "        ret, frame = cap.read()\n",
    "\n",
    "        if ret:\n",
    "            if frame_number < replacement_frame_number:\n",
    "                writeFile.write(np.uint8(replacement_frame))\n",
    "            else:\n",
    "                writeFile.write(np.uint8(frame[:,:,1]))\n",
    "            \n",
    "        else:\n",
    "            break\n",
    "        \n",
    "    writeFile.release()\n",
    "    cap.release()\n",
    "    cv2.destroyAllWindows()\n",
    "    "
   ]
  },
  {
   "cell_type": "code",
   "execution_count": null,
   "metadata": {},
   "outputs": [],
   "source": [
    "replace_LEDoff_frames(os.path.join(dpath,'0.avi'), 3)"
   ]
  },
  {
   "cell_type": "markdown",
   "metadata": {},
   "source": [
    "There should now be a folder called \"final\" that should contain the final products. Rename the files you recently moved from \"repaired\" to something else (i.e., \"0_striped.avi\") and replace them with the \"final\" videos. "
   ]
  }
 ],
 "metadata": {
  "jupytext": {
   "formats": "ipynb,py:percent"
  },
  "kernelspec": {
   "display_name": "minian-perf",
   "language": "python",
   "name": "minian-perf"
  },
  "language_info": {
   "codemirror_mode": {
    "name": "ipython",
    "version": 3
   },
   "file_extension": ".py",
   "mimetype": "text/x-python",
   "name": "python",
   "nbconvert_exporter": "python",
   "pygments_lexer": "ipython3",
   "version": "3.8.1"
  },
  "name": "pipeline.ipynb"
 },
 "nbformat": 4,
 "nbformat_minor": 4
}
