{
 "cells": [
  {
   "cell_type": "markdown",
   "metadata": {},
   "source": [
    "## load modules"
   ]
  },
  {
   "cell_type": "code",
   "execution_count": null,
   "metadata": {},
   "outputs": [],
   "source": [
    "%%capture\n",
    "%load_ext autoreload\n",
    "%autoreload 2\n",
    "%matplotlib inline\n",
    "import os\n",
    "import numpy as np\n",
    "from tqdm import tqdm\n",
    "from os import listdir\n",
    "from pathlib import Path\n",
    "import cv2\n",
    "import matplotlib\n",
    "import shutil"
   ]
  },
  {
   "cell_type": "markdown",
   "metadata": {
    "lines_to_next_cell": 2
   },
   "source": [
    "## set path"
   ]
  },
  {
   "cell_type": "code",
   "execution_count": null,
   "metadata": {
    "lines_to_next_cell": 2,
    "tags": [
     "parameters"
    ]
   },
   "outputs": [],
   "source": [
    "# Define file path here. \n",
    "dpath = \"FILE_PATH_HERE\"\n",
    "dpath = os.path.abspath(dpath)"
   ]
  },
  {
   "cell_type": "markdown",
   "metadata": {},
   "source": [
    "## define function for replacing dark frames\n",
    "\n",
    "When the user doesn't turn on the LED prior to triggering a Miniscope recording, the Miniscope's LED takes about 3 frames to fully illuminate the image. Ideally, the user should enable external triggering, then turn on the LED manually before actually triggering the recording. To fix this issue post-hoc, simply replace the first 3 frames or so with the 4th frame. \n",
    "\n",
    "The function below will make a folder called \"originals\". It will then move the file (usually 0.avi) into that folder, then make a new 0.avi in its place that has the corrected 3 beginning frames. "
   ]
  },
  {
   "cell_type": "code",
   "execution_count": null,
   "metadata": {},
   "outputs": [],
   "source": [
    "def replace_LEDoff_frames(fpath, replacement_frame_number=3):\n",
    "    \n",
    "    # Get folder and file names for relocated and new files.\n",
    "    folder = os.path.join(os.path.split(fpath)[0], 'originals')\n",
    "    if not os.path.exists(folder):\n",
    "        os.mkdir(folder)\n",
    "    fname = os.path.split(fpath)[1]\n",
    "    move_fpath = os.path.join(folder, fname)\n",
    "    \n",
    "    # Move the original file. \n",
    "    if not os.path.exists(move_fpath):\n",
    "        shutil.move(fpath, move_fpath)\n",
    "        print(f'Moved {fpath} to {move_fpath}')\n",
    "    else:\n",
    "        raise FileExistsError('The folder is already storing an original 0.avi. Aborting to prevent overwrite.')\n",
    "    \n",
    "    # Read the original file.\n",
    "    compressionCodec = \"FFV1\"\n",
    "    codec = cv2.VideoWriter.fourcc(*compressionCodec)\n",
    "    cap = cv2.VideoCapture(move_fpath)\n",
    "    rows, cols = int(cap.get(4)), int(cap.get(3))\n",
    "        \n",
    "    # Get replacement frame.\n",
    "    cap.set(cv2.CAP_PROP_POS_FRAMES, replacement_frame_number)\n",
    "    _, replacement_frame = cap.read()\n",
    "    replacement_frame = replacement_frame[:,:,1]\n",
    "    \n",
    "    #Return to the first frame.\n",
    "    cap.set(cv2.CAP_PROP_POS_FRAMES, 0)\n",
    "    \n",
    "    writeFile = cv2.VideoWriter(fpath, codec, 60, (cols, rows), isColor=False)\n",
    "    # Rewrite video file. \n",
    "    print(f'Writing new {fpath}')\n",
    "    for frame_number in tqdm(range(int(cap.get(7)))):\n",
    "        ret, frame = cap.read()\n",
    "\n",
    "        if ret:\n",
    "            if frame_number < replacement_frame_number:\n",
    "                writeFile.write(np.uint8(replacement_frame))\n",
    "            else:\n",
    "                writeFile.write(np.uint8(frame[:,:,1]))\n",
    "            \n",
    "        else:\n",
    "            break\n",
    "        \n",
    "    writeFile.release()\n",
    "    cap.release()\n",
    "    cv2.destroyAllWindows()\n",
    "    "
   ]
  },
  {
   "cell_type": "code",
   "execution_count": null,
   "metadata": {},
   "outputs": [],
   "source": [
    "# Replace the old file with a new one with no dark frames.  \n",
    "replace_LEDoff_frames(os.path.join(dpath,'0.avi'), 3)"
   ]
  }
 ],
 "metadata": {
  "jupytext": {
   "formats": "ipynb,py:percent"
  },
  "kernelspec": {
   "display_name": "minian-perf",
   "language": "python",
   "name": "minian-perf"
  },
  "language_info": {
   "codemirror_mode": {
    "name": "ipython",
    "version": 3
   },
   "file_extension": ".py",
   "mimetype": "text/x-python",
   "name": "python",
   "nbconvert_exporter": "python",
   "pygments_lexer": "ipython3",
   "version": "3.8.1"
  },
  "name": "pipeline.ipynb"
 },
 "nbformat": 4,
 "nbformat_minor": 4
}
